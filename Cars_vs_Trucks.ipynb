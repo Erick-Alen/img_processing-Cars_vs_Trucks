{
  "nbformat": 4,
  "nbformat_minor": 0,
  "metadata": {
    "colab": {
      "provenance": [],
      "gpuType": "T4",
      "mount_file_id": "1CG627kMMX_gIBsACaPAOKtwERPjzJtbp",
      "authorship_tag": "ABX9TyNuJ/zmfK4cEv6dqRqmYofV",
      "include_colab_link": true
    },
    "kernelspec": {
      "name": "python3",
      "display_name": "Python 3"
    },
    "language_info": {
      "name": "python"
    },
    "accelerator": "GPU"
  },
  "cells": [
    {
      "cell_type": "markdown",
      "metadata": {
        "id": "view-in-github",
        "colab_type": "text"
      },
      "source": [
        "<a href=\"https://colab.research.google.com/github/Erick-Alen/img_processing-Cars_vs_Trucks/blob/master/Cars_vs_Trucks.ipynb\" target=\"_parent\"><img src=\"https://colab.research.google.com/assets/colab-badge.svg\" alt=\"Open In Colab\"/></a>"
      ]
    },
    {
      "cell_type": "code",
      "source": [
        "import glob, os\n",
        "import tensorflow as tf\n",
        "import matplotlib.pyplot as plt\n",
        "from tensorflow import keras\n",
        "from keras.models import Sequential, Model, save_model, load_model\n",
        "from keras.layers import Input\n",
        "from keras.optimizers import Adam\n",
        "from keras.preprocessing.image import ImageDataGenerator\n",
        "from keras.layers import Dense, Activation, Dropout, Conv2D, GlobalAveragePooling2D, BatchNormalization\n",
        "from keras.layers.convolutional import Convolution2D, MaxPooling2D, ZeroPadding2D\n",
        "from keras.applications.vgg16 import preprocess_input\n",
        "from keras.callbacks import ModelCheckpoint, EarlyStopping\n",
        "from sklearn.metrics import classification_report, confusion_matrix"
      ],
      "metadata": {
        "id": "U2QvR0CIJUqk"
      },
      "execution_count": null,
      "outputs": []
    },
    {
      "cell_type": "code",
      "source": [
        "train_dir=\"./train\"\n",
        "validation_dir=\"./valid\"\n",
        "epochs=100\n",
        "batch_size = 256"
      ],
      "metadata": {
        "id": "8-kqRTM53FOm"
      },
      "execution_count": null,
      "outputs": []
    },
    {
      "cell_type": "code",
      "source": [
        "# Generate data and labels with data augmentation\n",
        "train_datagen=ImageDataGenerator(\n",
        "    preprocessing_function=preprocess_input,\n",
        "    horizontal_flip=True,\n",
        "    shear_range=0.2,\n",
        "    zoom_range=0.2,\n",
        "    rotation_range=20,\n",
        "    width_shift_range=0.2,\n",
        "    height_shift_range=0.2\n",
        "    )\n",
        "\n",
        "valid_datagen=ImageDataGenerator(preprocessing_function=preprocess_input)\n",
        "\n",
        "train_generator=train_datagen.flow_from_directory(\n",
        "    train_dir,\n",
        "    target_size=(128, 128),\n",
        "    batch_size=batch_size,\n",
        "    classes=['Car', 'Truck'],\n",
        "    class_mode='binary',\n",
        "    shuffle=True\n",
        "    )\n",
        "\n",
        "valid_generator=valid_datagen.flow_from_directory(\n",
        "    validation_dir,\n",
        "    target_size=(128, 128),\n",
        "    batch_size=batch_size,\n",
        "    classes=['Car', 'Truck'],\n",
        "    class_mode='binary',\n",
        "    shuffle=False\n",
        "    )"
      ],
      "metadata": {
        "colab": {
          "base_uri": "https://localhost:8080/"
        },
        "id": "wYgisKPX3d94",
        "outputId": "e092422c-9942-4dbd-b301-7a601853e00a"
      },
      "execution_count": null,
      "outputs": [
        {
          "output_type": "stream",
          "name": "stdout",
          "text": [
            "Found 5117 images belonging to 2 classes.\n",
            "Found 5061 images belonging to 2 classes.\n"
          ]
        }
      ]
    },
    {
      "cell_type": "code",
      "source": [
        "#Build AlexNet Model\n",
        "model = Sequential()\n",
        "\n",
        "# 1st Convolutional Layer\n",
        "model.add(Conv2D(filters=96, input_shape=(128,128,3), kernel_size=(11,11), strides=(4,4), padding='valid'))\n",
        "model.add(Activation('relu'))\n",
        "# Max Pooling\n",
        "model.add(MaxPooling2D(pool_size=(3,3), strides=(2,2), padding='valid'))\n",
        "# Batch Normalisation before passing it to the next layer\n",
        "model.add(BatchNormalization())\n",
        "\n",
        "# 2nd Convolutional Layer\n",
        "model.add(Conv2D(filters=256, kernel_size=(5,5), strides=(1,1), padding='same'))\n",
        "model.add(Activation('relu'))\n",
        "# Max Pooling\n",
        "model.add(MaxPooling2D(pool_size=(3,3), strides=(2,2), padding='valid'))\n",
        "# Batch Normalisation before passing it to the next layer\n",
        "model.add(BatchNormalization())\n",
        "\n",
        "# 3rd Convolutional Layer\n",
        "model.add(Conv2D(filters=384, kernel_size=(3,3), strides=(1,1), padding='same'))\n",
        "model.add(Activation('relu'))\n",
        "# Batch Normalisation before passing it to the next layer\n",
        "model.add(BatchNormalization())\n",
        "\n",
        "# 4th Convolutional Layer\n",
        "model.add(Conv2D(filters=384, kernel_size=(3,3), strides=(1,1), padding='same'))\n",
        "model.add(Activation('relu'))\n",
        "# Batch Normalisation before passing it to the next layer\n",
        "model.add(BatchNormalization())\n",
        "\n",
        "# 5th Convolutional Layer\n",
        "model.add(Conv2D(filters=256, kernel_size=(3,3), strides=(1,1), padding='same'))\n",
        "model.add(Activation('relu'))\n",
        "# Max Pooling\n",
        "model.add(MaxPooling2D(pool_size=(3,3), strides=(2,2), padding='valid'))\n",
        "# Batch Normalisation before passing it to the next layer\n",
        "model.add(BatchNormalization())\n",
        "\n",
        "# Passing it to a Fully Connected layer\n",
        "#model.add(Flatten())\n",
        "model.add(GlobalAveragePooling2D())\n",
        "# 1st Fully Connected Layer\n",
        "model.add(Dense(512))\n",
        "model.add(Activation('relu'))\n",
        "# Add Dropout to prevent overfitting\n",
        "model.add(Dropout(0.4))\n",
        "# Batch Normalisation before passing it to the next layer\n",
        "model.add(BatchNormalization())\n",
        "\n",
        "# Output Layer\n",
        "model.add(Dense(1))\n",
        "model.add(Activation('sigmoid'))\n",
        "\n",
        "model.summary()"
      ],
      "metadata": {
        "colab": {
          "base_uri": "https://localhost:8080/"
        },
        "id": "AtFnMwGC3imJ",
        "outputId": "8167c31a-b3af-4ef0-d4bb-98c778673e80"
      },
      "execution_count": null,
      "outputs": [
        {
          "output_type": "stream",
          "name": "stdout",
          "text": [
            "Model: \"sequential_1\"\n",
            "_________________________________________________________________\n",
            " Layer (type)                Output Shape              Param #   \n",
            "=================================================================\n",
            " conv2d_5 (Conv2D)           (None, 30, 30, 96)        34944     \n",
            "                                                                 \n",
            " activation_7 (Activation)   (None, 30, 30, 96)        0         \n",
            "                                                                 \n",
            " max_pooling2d_3 (MaxPooling  (None, 14, 14, 96)       0         \n",
            " 2D)                                                             \n",
            "                                                                 \n",
            " batch_normalization_6 (Batc  (None, 14, 14, 96)       384       \n",
            " hNormalization)                                                 \n",
            "                                                                 \n",
            " conv2d_6 (Conv2D)           (None, 14, 14, 256)       614656    \n",
            "                                                                 \n",
            " activation_8 (Activation)   (None, 14, 14, 256)       0         \n",
            "                                                                 \n",
            " max_pooling2d_4 (MaxPooling  (None, 6, 6, 256)        0         \n",
            " 2D)                                                             \n",
            "                                                                 \n",
            " batch_normalization_7 (Batc  (None, 6, 6, 256)        1024      \n",
            " hNormalization)                                                 \n",
            "                                                                 \n",
            " conv2d_7 (Conv2D)           (None, 6, 6, 384)         885120    \n",
            "                                                                 \n",
            " activation_9 (Activation)   (None, 6, 6, 384)         0         \n",
            "                                                                 \n",
            " batch_normalization_8 (Batc  (None, 6, 6, 384)        1536      \n",
            " hNormalization)                                                 \n",
            "                                                                 \n",
            " conv2d_8 (Conv2D)           (None, 6, 6, 384)         1327488   \n",
            "                                                                 \n",
            " activation_10 (Activation)  (None, 6, 6, 384)         0         \n",
            "                                                                 \n",
            " batch_normalization_9 (Batc  (None, 6, 6, 384)        1536      \n",
            " hNormalization)                                                 \n",
            "                                                                 \n",
            " conv2d_9 (Conv2D)           (None, 6, 6, 256)         884992    \n",
            "                                                                 \n",
            " activation_11 (Activation)  (None, 6, 6, 256)         0         \n",
            "                                                                 \n",
            " max_pooling2d_5 (MaxPooling  (None, 2, 2, 256)        0         \n",
            " 2D)                                                             \n",
            "                                                                 \n",
            " batch_normalization_10 (Bat  (None, 2, 2, 256)        1024      \n",
            " chNormalization)                                                \n",
            "                                                                 \n",
            " global_average_pooling2d_1   (None, 256)              0         \n",
            " (GlobalAveragePooling2D)                                        \n",
            "                                                                 \n",
            " dense_2 (Dense)             (None, 512)               131584    \n",
            "                                                                 \n",
            " activation_12 (Activation)  (None, 512)               0         \n",
            "                                                                 \n",
            " dropout_1 (Dropout)         (None, 512)               0         \n",
            "                                                                 \n",
            " batch_normalization_11 (Bat  (None, 512)              2048      \n",
            " chNormalization)                                                \n",
            "                                                                 \n",
            " dense_3 (Dense)             (None, 1)                 513       \n",
            "                                                                 \n",
            " activation_13 (Activation)  (None, 1)                 0         \n",
            "                                                                 \n",
            "=================================================================\n",
            "Total params: 3,886,849\n",
            "Trainable params: 3,883,073\n",
            "Non-trainable params: 3,776\n",
            "_________________________________________________________________\n"
          ]
        }
      ]
    },
    {
      "cell_type": "code",
      "source": [
        "model.compile(loss='binary_crossentropy', optimizer=Adam(learning_rate=1e-3), metrics=['accuracy'])\n",
        "\n",
        "# checkpoints\n",
        "checkpoint = ModelCheckpoint(\n",
        "    filepath='/content/drive/MyDrive/Colab Notebooks/Modelo/modelV3.hdf5',\n",
        "    monitor='val_accuracy',\n",
        "    save_best_only=True,\n",
        "    verbose=1)\n",
        "\n",
        "# Stop when we stop learning\n",
        "early = EarlyStopping(monitor='val_accuracy', patience=10, restore_best_weights=True)"
      ],
      "metadata": {
        "id": "r-wpPK_X4JPq"
      },
      "execution_count": null,
      "outputs": []
    },
    {
      "cell_type": "code",
      "source": [
        "# Train the model\n",
        "history = model.fit(\n",
        "    train_generator,\n",
        "    epochs=epochs,\n",
        "    validation_data=valid_generator,\n",
        "    # workers=8,\n",
        "    callbacks=[checkpoint, early])"
      ],
      "metadata": {
        "colab": {
          "base_uri": "https://localhost:8080/"
        },
        "id": "B-2Z2-gHND40",
        "outputId": "14cb1875-f7e9-45c6-b02c-3f9e7aa52e12"
      },
      "execution_count": null,
      "outputs": [
        {
          "output_type": "stream",
          "name": "stdout",
          "text": [
            "Epoch 1/100\n",
            "20/20 [==============================] - ETA: 0s - loss: 0.7369 - accuracy: 0.5665\n",
            "Epoch 1: val_accuracy improved from 0.42857 to 0.50267, saving model to /content/drive/MyDrive/Colab Notebooks/Modelo/modelV3.hdf5\n",
            "20/20 [==============================] - 51s 3s/step - loss: 0.7369 - accuracy: 0.5665 - val_loss: 1.1281 - val_accuracy: 0.5027\n",
            "Epoch 2/100\n",
            "20/20 [==============================] - ETA: 0s - loss: 0.7025 - accuracy: 0.5998\n",
            "Epoch 2: val_accuracy improved from 0.50267 to 0.59257, saving model to /content/drive/MyDrive/Colab Notebooks/Modelo/modelV3.hdf5\n",
            "20/20 [==============================] - 51s 3s/step - loss: 0.7025 - accuracy: 0.5998 - val_loss: 0.8295 - val_accuracy: 0.5926\n",
            "Epoch 3/100\n",
            "20/20 [==============================] - ETA: 0s - loss: 0.6819 - accuracy: 0.6242\n",
            "Epoch 3: val_accuracy improved from 0.59257 to 0.59593, saving model to /content/drive/MyDrive/Colab Notebooks/Modelo/modelV3.hdf5\n",
            "20/20 [==============================] - 52s 3s/step - loss: 0.6819 - accuracy: 0.6242 - val_loss: 0.6659 - val_accuracy: 0.5959\n",
            "Epoch 4/100\n",
            "20/20 [==============================] - ETA: 0s - loss: 0.6411 - accuracy: 0.6643\n",
            "Epoch 4: val_accuracy did not improve from 0.59593\n",
            "20/20 [==============================] - 52s 3s/step - loss: 0.6411 - accuracy: 0.6643 - val_loss: 0.9161 - val_accuracy: 0.5418\n",
            "Epoch 5/100\n",
            "20/20 [==============================] - ETA: 0s - loss: 0.6112 - accuracy: 0.6848\n",
            "Epoch 5: val_accuracy did not improve from 0.59593\n",
            "20/20 [==============================] - 52s 3s/step - loss: 0.6112 - accuracy: 0.6848 - val_loss: 1.5894 - val_accuracy: 0.4809\n",
            "Epoch 6/100\n",
            "20/20 [==============================] - ETA: 0s - loss: 0.5813 - accuracy: 0.7069\n",
            "Epoch 6: val_accuracy did not improve from 0.59593\n",
            "20/20 [==============================] - 50s 2s/step - loss: 0.5813 - accuracy: 0.7069 - val_loss: 1.8573 - val_accuracy: 0.4495\n",
            "Epoch 7/100\n",
            "20/20 [==============================] - ETA: 0s - loss: 0.5520 - accuracy: 0.7237\n",
            "Epoch 7: val_accuracy did not improve from 0.59593\n",
            "20/20 [==============================] - 57s 3s/step - loss: 0.5520 - accuracy: 0.7237 - val_loss: 1.5320 - val_accuracy: 0.5384\n",
            "Epoch 8/100\n",
            "20/20 [==============================] - ETA: 0s - loss: 0.5356 - accuracy: 0.7329\n",
            "Epoch 8: val_accuracy improved from 0.59593 to 0.71646, saving model to /content/drive/MyDrive/Colab Notebooks/Modelo/modelV3.hdf5\n",
            "20/20 [==============================] - 59s 3s/step - loss: 0.5356 - accuracy: 0.7329 - val_loss: 0.6881 - val_accuracy: 0.7165\n",
            "Epoch 9/100\n",
            "20/20 [==============================] - ETA: 0s - loss: 0.5222 - accuracy: 0.7489\n",
            "Epoch 9: val_accuracy did not improve from 0.71646\n",
            "20/20 [==============================] - 51s 3s/step - loss: 0.5222 - accuracy: 0.7489 - val_loss: 0.8203 - val_accuracy: 0.6655\n",
            "Epoch 10/100\n",
            "20/20 [==============================] - ETA: 0s - loss: 0.4806 - accuracy: 0.7714\n",
            "Epoch 10: val_accuracy improved from 0.71646 to 0.80024, saving model to /content/drive/MyDrive/Colab Notebooks/Modelo/modelV3.hdf5\n",
            "20/20 [==============================] - 50s 3s/step - loss: 0.4806 - accuracy: 0.7714 - val_loss: 0.4546 - val_accuracy: 0.8002\n",
            "Epoch 11/100\n",
            "20/20 [==============================] - ETA: 0s - loss: 0.4801 - accuracy: 0.7737\n",
            "Epoch 11: val_accuracy did not improve from 0.80024\n",
            "20/20 [==============================] - 51s 3s/step - loss: 0.4801 - accuracy: 0.7737 - val_loss: 0.8619 - val_accuracy: 0.6426\n",
            "Epoch 12/100\n",
            "20/20 [==============================] - ETA: 0s - loss: 0.4795 - accuracy: 0.7755\n",
            "Epoch 12: val_accuracy did not improve from 0.80024\n",
            "20/20 [==============================] - 51s 3s/step - loss: 0.4795 - accuracy: 0.7755 - val_loss: 0.4774 - val_accuracy: 0.7998\n",
            "Epoch 13/100\n",
            "20/20 [==============================] - ETA: 0s - loss: 0.4430 - accuracy: 0.7919\n",
            "Epoch 13: val_accuracy did not improve from 0.80024\n",
            "20/20 [==============================] - 50s 3s/step - loss: 0.4430 - accuracy: 0.7919 - val_loss: 0.4740 - val_accuracy: 0.7779\n",
            "Epoch 14/100\n",
            "20/20 [==============================] - ETA: 0s - loss: 0.4361 - accuracy: 0.8005\n",
            "Epoch 14: val_accuracy improved from 0.80024 to 0.80913, saving model to /content/drive/MyDrive/Colab Notebooks/Modelo/modelV3.hdf5\n",
            "20/20 [==============================] - 50s 3s/step - loss: 0.4361 - accuracy: 0.8005 - val_loss: 0.4198 - val_accuracy: 0.8091\n",
            "Epoch 15/100\n",
            "20/20 [==============================] - ETA: 0s - loss: 0.4162 - accuracy: 0.8038\n",
            "Epoch 15: val_accuracy did not improve from 0.80913\n",
            "20/20 [==============================] - 49s 2s/step - loss: 0.4162 - accuracy: 0.8038 - val_loss: 0.5045 - val_accuracy: 0.7996\n",
            "Epoch 16/100\n",
            "20/20 [==============================] - ETA: 0s - loss: 0.4120 - accuracy: 0.8118\n",
            "Epoch 16: val_accuracy did not improve from 0.80913\n",
            "20/20 [==============================] - 51s 3s/step - loss: 0.4120 - accuracy: 0.8118 - val_loss: 0.4290 - val_accuracy: 0.8052\n",
            "Epoch 17/100\n",
            "20/20 [==============================] - ETA: 0s - loss: 0.3918 - accuracy: 0.8206\n",
            "Epoch 17: val_accuracy improved from 0.80913 to 0.81664, saving model to /content/drive/MyDrive/Colab Notebooks/Modelo/modelV3.hdf5\n",
            "20/20 [==============================] - 50s 3s/step - loss: 0.3918 - accuracy: 0.8206 - val_loss: 0.4722 - val_accuracy: 0.8166\n",
            "Epoch 18/100\n",
            "20/20 [==============================] - ETA: 0s - loss: 0.3685 - accuracy: 0.8347\n",
            "Epoch 18: val_accuracy improved from 0.81664 to 0.83896, saving model to /content/drive/MyDrive/Colab Notebooks/Modelo/modelV3.hdf5\n",
            "20/20 [==============================] - 51s 3s/step - loss: 0.3685 - accuracy: 0.8347 - val_loss: 0.3822 - val_accuracy: 0.8390\n",
            "Epoch 19/100\n",
            "20/20 [==============================] - ETA: 0s - loss: 0.3932 - accuracy: 0.8224\n",
            "Epoch 19: val_accuracy improved from 0.83896 to 0.83916, saving model to /content/drive/MyDrive/Colab Notebooks/Modelo/modelV3.hdf5\n",
            "20/20 [==============================] - 50s 3s/step - loss: 0.3932 - accuracy: 0.8224 - val_loss: 0.3777 - val_accuracy: 0.8392\n",
            "Epoch 20/100\n",
            "20/20 [==============================] - ETA: 0s - loss: 0.3654 - accuracy: 0.8372\n",
            "Epoch 20: val_accuracy did not improve from 0.83916\n",
            "20/20 [==============================] - 51s 3s/step - loss: 0.3654 - accuracy: 0.8372 - val_loss: 0.4825 - val_accuracy: 0.8141\n",
            "Epoch 21/100\n",
            "20/20 [==============================] - ETA: 0s - loss: 0.3430 - accuracy: 0.8491\n",
            "Epoch 21: val_accuracy did not improve from 0.83916\n",
            "20/20 [==============================] - 51s 3s/step - loss: 0.3430 - accuracy: 0.8491 - val_loss: 0.5315 - val_accuracy: 0.7943\n",
            "Epoch 22/100\n",
            "20/20 [==============================] - ETA: 0s - loss: 0.3544 - accuracy: 0.8417\n",
            "Epoch 22: val_accuracy did not improve from 0.83916\n",
            "20/20 [==============================] - 56s 3s/step - loss: 0.3544 - accuracy: 0.8417 - val_loss: 0.4361 - val_accuracy: 0.8249\n",
            "Epoch 23/100\n",
            "20/20 [==============================] - ETA: 0s - loss: 0.3513 - accuracy: 0.8427\n",
            "Epoch 23: val_accuracy did not improve from 0.83916\n",
            "20/20 [==============================] - 57s 3s/step - loss: 0.3513 - accuracy: 0.8427 - val_loss: 0.4454 - val_accuracy: 0.8050\n",
            "Epoch 24/100\n",
            "20/20 [==============================] - ETA: 0s - loss: 0.3383 - accuracy: 0.8460\n",
            "Epoch 24: val_accuracy improved from 0.83916 to 0.84213, saving model to /content/drive/MyDrive/Colab Notebooks/Modelo/modelV3.hdf5\n",
            "20/20 [==============================] - 58s 3s/step - loss: 0.3383 - accuracy: 0.8460 - val_loss: 0.4447 - val_accuracy: 0.8421\n",
            "Epoch 25/100\n",
            "20/20 [==============================] - ETA: 0s - loss: 0.3245 - accuracy: 0.8552\n",
            "Epoch 25: val_accuracy did not improve from 0.84213\n",
            "20/20 [==============================] - 51s 3s/step - loss: 0.3245 - accuracy: 0.8552 - val_loss: 0.5280 - val_accuracy: 0.8123\n",
            "Epoch 26/100\n",
            "20/20 [==============================] - ETA: 0s - loss: 0.3019 - accuracy: 0.8646\n",
            "Epoch 26: val_accuracy did not improve from 0.84213\n",
            "20/20 [==============================] - 50s 3s/step - loss: 0.3019 - accuracy: 0.8646 - val_loss: 0.5486 - val_accuracy: 0.8020\n",
            "Epoch 27/100\n",
            "20/20 [==============================] - ETA: 0s - loss: 0.3169 - accuracy: 0.8607\n",
            "Epoch 27: val_accuracy improved from 0.84213 to 0.86999, saving model to /content/drive/MyDrive/Colab Notebooks/Modelo/modelV3.hdf5\n",
            "20/20 [==============================] - 53s 3s/step - loss: 0.3169 - accuracy: 0.8607 - val_loss: 0.3450 - val_accuracy: 0.8700\n",
            "Epoch 28/100\n",
            "20/20 [==============================] - ETA: 0s - loss: 0.2930 - accuracy: 0.8734\n",
            "Epoch 28: val_accuracy did not improve from 0.86999\n",
            "20/20 [==============================] - 50s 3s/step - loss: 0.2930 - accuracy: 0.8734 - val_loss: 0.4606 - val_accuracy: 0.8295\n",
            "Epoch 29/100\n",
            "20/20 [==============================] - ETA: 0s - loss: 0.2933 - accuracy: 0.8765\n",
            "Epoch 29: val_accuracy did not improve from 0.86999\n",
            "20/20 [==============================] - 52s 3s/step - loss: 0.2933 - accuracy: 0.8765 - val_loss: 0.8037 - val_accuracy: 0.7475\n",
            "Epoch 30/100\n",
            "20/20 [==============================] - ETA: 0s - loss: 0.2838 - accuracy: 0.8822\n",
            "Epoch 30: val_accuracy did not improve from 0.86999\n",
            "20/20 [==============================] - 51s 3s/step - loss: 0.2838 - accuracy: 0.8822 - val_loss: 1.5320 - val_accuracy: 0.6611\n",
            "Epoch 31/100\n",
            "20/20 [==============================] - ETA: 0s - loss: 0.3002 - accuracy: 0.8655\n",
            "Epoch 31: val_accuracy did not improve from 0.86999\n",
            "20/20 [==============================] - 50s 3s/step - loss: 0.3002 - accuracy: 0.8655 - val_loss: 0.3197 - val_accuracy: 0.8652\n",
            "Epoch 32/100\n",
            "20/20 [==============================] - ETA: 0s - loss: 0.2768 - accuracy: 0.8820\n",
            "Epoch 32: val_accuracy improved from 0.86999 to 0.87512, saving model to /content/drive/MyDrive/Colab Notebooks/Modelo/modelV3.hdf5\n",
            "20/20 [==============================] - 51s 3s/step - loss: 0.2768 - accuracy: 0.8820 - val_loss: 0.3102 - val_accuracy: 0.8751\n",
            "Epoch 33/100\n",
            "20/20 [==============================] - ETA: 0s - loss: 0.2712 - accuracy: 0.8816\n",
            "Epoch 33: val_accuracy did not improve from 0.87512\n",
            "20/20 [==============================] - 50s 3s/step - loss: 0.2712 - accuracy: 0.8816 - val_loss: 0.4910 - val_accuracy: 0.8479\n",
            "Epoch 34/100\n",
            "20/20 [==============================] - ETA: 0s - loss: 0.2602 - accuracy: 0.8923\n",
            "Epoch 34: val_accuracy did not improve from 0.87512\n",
            "20/20 [==============================] - 51s 3s/step - loss: 0.2602 - accuracy: 0.8923 - val_loss: 0.3276 - val_accuracy: 0.8617\n",
            "Epoch 35/100\n",
            "20/20 [==============================] - ETA: 0s - loss: 0.2665 - accuracy: 0.8921\n",
            "Epoch 35: val_accuracy did not improve from 0.87512\n",
            "20/20 [==============================] - 49s 2s/step - loss: 0.2665 - accuracy: 0.8921 - val_loss: 0.2960 - val_accuracy: 0.8733\n",
            "Epoch 36/100\n",
            "20/20 [==============================] - ETA: 0s - loss: 0.2547 - accuracy: 0.8933\n",
            "Epoch 36: val_accuracy did not improve from 0.87512\n",
            "20/20 [==============================] - 50s 3s/step - loss: 0.2547 - accuracy: 0.8933 - val_loss: 0.3532 - val_accuracy: 0.8502\n",
            "Epoch 37/100\n",
            "20/20 [==============================] - ETA: 0s - loss: 0.2468 - accuracy: 0.8935\n",
            "Epoch 37: val_accuracy improved from 0.87512 to 0.88500, saving model to /content/drive/MyDrive/Colab Notebooks/Modelo/modelV3.hdf5\n",
            "20/20 [==============================] - 50s 3s/step - loss: 0.2468 - accuracy: 0.8935 - val_loss: 0.3098 - val_accuracy: 0.8850\n",
            "Epoch 38/100\n",
            "20/20 [==============================] - ETA: 0s - loss: 0.2534 - accuracy: 0.8980\n",
            "Epoch 38: val_accuracy did not improve from 0.88500\n",
            "20/20 [==============================] - 51s 3s/step - loss: 0.2534 - accuracy: 0.8980 - val_loss: 0.2927 - val_accuracy: 0.8741\n",
            "Epoch 39/100\n",
            "20/20 [==============================] - ETA: 0s - loss: 0.2635 - accuracy: 0.8929\n",
            "Epoch 39: val_accuracy did not improve from 0.88500\n",
            "20/20 [==============================] - 50s 3s/step - loss: 0.2635 - accuracy: 0.8929 - val_loss: 0.8671 - val_accuracy: 0.7354\n",
            "Epoch 40/100\n",
            "20/20 [==============================] - ETA: 0s - loss: 0.2482 - accuracy: 0.9005\n",
            "Epoch 40: val_accuracy did not improve from 0.88500\n",
            "20/20 [==============================] - 50s 3s/step - loss: 0.2482 - accuracy: 0.9005 - val_loss: 0.5103 - val_accuracy: 0.8077\n",
            "Epoch 41/100\n",
            "20/20 [==============================] - ETA: 0s - loss: 0.2316 - accuracy: 0.9046\n",
            "Epoch 41: val_accuracy did not improve from 0.88500\n",
            "20/20 [==============================] - 51s 3s/step - loss: 0.2316 - accuracy: 0.9046 - val_loss: 0.3000 - val_accuracy: 0.8779\n",
            "Epoch 42/100\n",
            "20/20 [==============================] - ETA: 0s - loss: 0.2136 - accuracy: 0.9132\n",
            "Epoch 42: val_accuracy did not improve from 0.88500\n",
            "20/20 [==============================] - 51s 3s/step - loss: 0.2136 - accuracy: 0.9132 - val_loss: 0.3158 - val_accuracy: 0.8739\n",
            "Epoch 43/100\n",
            "20/20 [==============================] - ETA: 0s - loss: 0.2133 - accuracy: 0.9113\n",
            "Epoch 43: val_accuracy did not improve from 0.88500\n",
            "20/20 [==============================] - 50s 3s/step - loss: 0.2133 - accuracy: 0.9113 - val_loss: 0.4137 - val_accuracy: 0.8368\n",
            "Epoch 44/100\n",
            "20/20 [==============================] - ETA: 0s - loss: 0.2237 - accuracy: 0.9048\n",
            "Epoch 44: val_accuracy did not improve from 0.88500\n",
            "20/20 [==============================] - 51s 3s/step - loss: 0.2237 - accuracy: 0.9048 - val_loss: 0.3338 - val_accuracy: 0.8769\n",
            "Epoch 45/100\n",
            "20/20 [==============================] - ETA: 0s - loss: 0.2111 - accuracy: 0.9119\n",
            "Epoch 45: val_accuracy improved from 0.88500 to 0.89389, saving model to /content/drive/MyDrive/Colab Notebooks/Modelo/modelV3.hdf5\n",
            "20/20 [==============================] - 51s 3s/step - loss: 0.2111 - accuracy: 0.9119 - val_loss: 0.2946 - val_accuracy: 0.8939\n",
            "Epoch 46/100\n",
            "20/20 [==============================] - ETA: 0s - loss: 0.1978 - accuracy: 0.9169\n",
            "Epoch 46: val_accuracy did not improve from 0.89389\n",
            "20/20 [==============================] - 59s 3s/step - loss: 0.1978 - accuracy: 0.9169 - val_loss: 0.3013 - val_accuracy: 0.8838\n",
            "Epoch 47/100\n",
            "20/20 [==============================] - ETA: 0s - loss: 0.2009 - accuracy: 0.9150\n",
            "Epoch 47: val_accuracy did not improve from 0.89389\n",
            "20/20 [==============================] - 51s 3s/step - loss: 0.2009 - accuracy: 0.9150 - val_loss: 0.2839 - val_accuracy: 0.8929\n",
            "Epoch 48/100\n",
            "20/20 [==============================] - ETA: 0s - loss: 0.2071 - accuracy: 0.9179\n",
            "Epoch 48: val_accuracy did not improve from 0.89389\n",
            "20/20 [==============================] - 50s 3s/step - loss: 0.2071 - accuracy: 0.9179 - val_loss: 0.3410 - val_accuracy: 0.8714\n",
            "Epoch 49/100\n",
            "20/20 [==============================] - ETA: 0s - loss: 0.1900 - accuracy: 0.9205\n",
            "Epoch 49: val_accuracy improved from 0.89389 to 0.89607, saving model to /content/drive/MyDrive/Colab Notebooks/Modelo/modelV3.hdf5\n",
            "20/20 [==============================] - 51s 3s/step - loss: 0.1900 - accuracy: 0.9205 - val_loss: 0.2932 - val_accuracy: 0.8961\n",
            "Epoch 50/100\n",
            "20/20 [==============================] - ETA: 0s - loss: 0.2044 - accuracy: 0.9181\n",
            "Epoch 50: val_accuracy did not improve from 0.89607\n",
            "20/20 [==============================] - 49s 2s/step - loss: 0.2044 - accuracy: 0.9181 - val_loss: 0.3446 - val_accuracy: 0.8698\n",
            "Epoch 51/100\n",
            "20/20 [==============================] - ETA: 0s - loss: 0.1962 - accuracy: 0.9197\n",
            "Epoch 51: val_accuracy did not improve from 0.89607\n",
            "20/20 [==============================] - 57s 3s/step - loss: 0.1962 - accuracy: 0.9197 - val_loss: 0.3267 - val_accuracy: 0.8791\n",
            "Epoch 52/100\n",
            "20/20 [==============================] - ETA: 0s - loss: 0.1882 - accuracy: 0.9253\n",
            "Epoch 52: val_accuracy did not improve from 0.89607\n",
            "20/20 [==============================] - 51s 3s/step - loss: 0.1882 - accuracy: 0.9253 - val_loss: 0.4592 - val_accuracy: 0.8546\n",
            "Epoch 53/100\n",
            "20/20 [==============================] - ETA: 0s - loss: 0.1728 - accuracy: 0.9318\n",
            "Epoch 53: val_accuracy did not improve from 0.89607\n",
            "20/20 [==============================] - 58s 3s/step - loss: 0.1728 - accuracy: 0.9318 - val_loss: 0.3715 - val_accuracy: 0.8826\n",
            "Epoch 54/100\n",
            "20/20 [==============================] - ETA: 0s - loss: 0.1792 - accuracy: 0.9285\n",
            "Epoch 54: val_accuracy did not improve from 0.89607\n",
            "20/20 [==============================] - 51s 3s/step - loss: 0.1792 - accuracy: 0.9285 - val_loss: 0.3135 - val_accuracy: 0.8836\n",
            "Epoch 55/100\n",
            "20/20 [==============================] - ETA: 0s - loss: 0.1856 - accuracy: 0.9240\n",
            "Epoch 55: val_accuracy did not improve from 0.89607\n",
            "20/20 [==============================] - 57s 3s/step - loss: 0.1856 - accuracy: 0.9240 - val_loss: 0.3265 - val_accuracy: 0.8783\n",
            "Epoch 56/100\n",
            "20/20 [==============================] - ETA: 0s - loss: 0.1720 - accuracy: 0.9304\n",
            "Epoch 56: val_accuracy improved from 0.89607 to 0.89785, saving model to /content/drive/MyDrive/Colab Notebooks/Modelo/modelV3.hdf5\n",
            "20/20 [==============================] - 58s 3s/step - loss: 0.1720 - accuracy: 0.9304 - val_loss: 0.2927 - val_accuracy: 0.8978\n",
            "Epoch 57/100\n",
            "20/20 [==============================] - ETA: 0s - loss: 0.1550 - accuracy: 0.9363\n",
            "Epoch 57: val_accuracy did not improve from 0.89785\n",
            "20/20 [==============================] - 50s 3s/step - loss: 0.1550 - accuracy: 0.9363 - val_loss: 0.3082 - val_accuracy: 0.8769\n",
            "Epoch 58/100\n",
            "20/20 [==============================] - ETA: 0s - loss: 0.1619 - accuracy: 0.9377\n",
            "Epoch 58: val_accuracy improved from 0.89785 to 0.90318, saving model to /content/drive/MyDrive/Colab Notebooks/Modelo/modelV3.hdf5\n",
            "20/20 [==============================] - 58s 3s/step - loss: 0.1619 - accuracy: 0.9377 - val_loss: 0.2624 - val_accuracy: 0.9032\n",
            "Epoch 59/100\n",
            "20/20 [==============================] - ETA: 0s - loss: 0.1637 - accuracy: 0.9351\n",
            "Epoch 59: val_accuracy improved from 0.90318 to 0.90654, saving model to /content/drive/MyDrive/Colab Notebooks/Modelo/modelV3.hdf5\n",
            "20/20 [==============================] - 58s 3s/step - loss: 0.1637 - accuracy: 0.9351 - val_loss: 0.2631 - val_accuracy: 0.9065\n",
            "Epoch 60/100\n",
            "20/20 [==============================] - ETA: 0s - loss: 0.1624 - accuracy: 0.9367\n",
            "Epoch 60: val_accuracy did not improve from 0.90654\n",
            "20/20 [==============================] - 51s 3s/step - loss: 0.1624 - accuracy: 0.9367 - val_loss: 0.2867 - val_accuracy: 0.9028\n",
            "Epoch 61/100\n",
            "20/20 [==============================] - ETA: 0s - loss: 0.1584 - accuracy: 0.9328\n",
            "Epoch 61: val_accuracy did not improve from 0.90654\n",
            "20/20 [==============================] - 51s 3s/step - loss: 0.1584 - accuracy: 0.9328 - val_loss: 0.2757 - val_accuracy: 0.9016\n",
            "Epoch 62/100\n",
            "20/20 [==============================] - ETA: 0s - loss: 0.1521 - accuracy: 0.9410\n",
            "Epoch 62: val_accuracy did not improve from 0.90654\n",
            "20/20 [==============================] - 51s 3s/step - loss: 0.1521 - accuracy: 0.9410 - val_loss: 0.2856 - val_accuracy: 0.9028\n",
            "Epoch 63/100\n",
            "20/20 [==============================] - ETA: 0s - loss: 0.1511 - accuracy: 0.9418\n",
            "Epoch 63: val_accuracy did not improve from 0.90654\n",
            "20/20 [==============================] - 49s 3s/step - loss: 0.1511 - accuracy: 0.9418 - val_loss: 0.2896 - val_accuracy: 0.8998\n",
            "Epoch 64/100\n",
            "20/20 [==============================] - ETA: 0s - loss: 0.1462 - accuracy: 0.9412\n",
            "Epoch 64: val_accuracy did not improve from 0.90654\n",
            "20/20 [==============================] - 51s 3s/step - loss: 0.1462 - accuracy: 0.9412 - val_loss: 0.3895 - val_accuracy: 0.8793\n",
            "Epoch 65/100\n",
            "20/20 [==============================] - ETA: 0s - loss: 0.1527 - accuracy: 0.9412\n",
            "Epoch 65: val_accuracy did not improve from 0.90654\n",
            "20/20 [==============================] - 49s 3s/step - loss: 0.1527 - accuracy: 0.9412 - val_loss: 0.3672 - val_accuracy: 0.8805\n",
            "Epoch 66/100\n",
            "20/20 [==============================] - ETA: 0s - loss: 0.1582 - accuracy: 0.9386\n",
            "Epoch 66: val_accuracy did not improve from 0.90654\n",
            "20/20 [==============================] - 51s 3s/step - loss: 0.1582 - accuracy: 0.9386 - val_loss: 0.4453 - val_accuracy: 0.8617\n",
            "Epoch 67/100\n",
            "20/20 [==============================] - ETA: 0s - loss: 0.1351 - accuracy: 0.9492\n",
            "Epoch 67: val_accuracy did not improve from 0.90654\n",
            "20/20 [==============================] - 49s 2s/step - loss: 0.1351 - accuracy: 0.9492 - val_loss: 0.2713 - val_accuracy: 0.9028\n",
            "Epoch 68/100\n",
            "20/20 [==============================] - ETA: 0s - loss: 0.1379 - accuracy: 0.9429\n",
            "Epoch 68: val_accuracy did not improve from 0.90654\n",
            "20/20 [==============================] - 58s 3s/step - loss: 0.1379 - accuracy: 0.9429 - val_loss: 0.2960 - val_accuracy: 0.8980\n",
            "Epoch 69/100\n",
            "20/20 [==============================] - ETA: 0s - loss: 0.1294 - accuracy: 0.9490\n",
            "Epoch 69: val_accuracy did not improve from 0.90654\n",
            "20/20 [==============================] - 58s 3s/step - loss: 0.1294 - accuracy: 0.9490 - val_loss: 0.2879 - val_accuracy: 0.8959\n"
          ]
        }
      ]
    },
    {
      "cell_type": "code",
      "source": [
        "# Plot history for accuracy\n",
        "plt.plot(history.history['accuracy'])\n",
        "plt.plot(history.history['val_accuracy'])\n",
        "plt.title('model accuracy')\n",
        "plt.ylabel('accuracy')\n",
        "plt.xlabel('epoch')\n",
        "plt.legend(['train', 'test'], loc='upper left')\n",
        "plt.show()"
      ],
      "metadata": {
        "colab": {
          "base_uri": "https://localhost:8080/",
          "height": 472
        },
        "id": "dpy1u-Q-KER_",
        "outputId": "b07b47db-2059-419e-d442-e4a909069131"
      },
      "execution_count": null,
      "outputs": [
        {
          "output_type": "display_data",
          "data": {
            "text/plain": [
              "<Figure size 640x480 with 1 Axes>"
            ],
            "image/png": "[encoded data removed]"
          },
          "metadata": {}
        }
      ]
    },
    {
      "cell_type": "code",
      "source": [
        "# Plot history for loss\n",
        "plt.plot(history.history['loss'])\n",
        "plt.plot(history.history['val_loss'])\n",
        "plt.title('model loss')\n",
        "plt.ylabel('loss')\n",
        "plt.xlabel('epoch')\n",
        "plt.legend(['train', 'test'], loc='upper left')\n",
        "plt.show()"
      ],
      "metadata": {
        "colab": {
          "base_uri": "https://localhost:8080/",
          "height": 472
        },
        "id": "B_KHjGa5KEUe",
        "outputId": "e9ac163a-855c-489a-e995-ebed7970a19e"
      },
      "execution_count": null,
      "outputs": [
        {
          "output_type": "display_data",
          "data": {
            "text/plain": [
              "<Figure size 640x480 with 1 Axes>"
            ],
            "image/png": "[encoded data removed]"
          },
          "metadata": {}
        }
      ]
    },
    {
      "cell_type": "code",
      "source": [
        "result = model.evaluate(valid_generator)\n",
        "print('Test Loss: ', result[0])\n",
        "print('Test Accuracy: ', result[1])"
      ],
      "metadata": {
        "colab": {
          "base_uri": "https://localhost:8080/"
        },
        "id": "Xg1SHlUTKEWg",
        "outputId": "af2335a1-005b-49a8-dc7e-2012c689c079"
      },
      "execution_count": null,
      "outputs": [
        {
          "output_type": "stream",
          "name": "stdout",
          "text": [
            "20/20 [==============================] - 13s 668ms/step - loss: 0.2631 - accuracy: 0.9065\n",
            "Test Loss:  0.26308271288871765\n",
            "Test Accuracy:  0.9065402150154114\n"
          ]
        }
      ]
    },
    {
      "cell_type": "code",
      "source": [
        "# Confution Matrix and Classification Report\n",
        "y_true = valid_generator.classes\n",
        "\n",
        "Y_pred = model.predict(valid_generator, verbose=1)\n",
        "y_pred = Y_pred > 0.5\n",
        "print('Confusion Matrix')\n",
        "print(confusion_matrix(y_true, y_pred))"
      ],
      "metadata": {
        "colab": {
          "base_uri": "https://localhost:8080/"
        },
        "id": "W9HDtKW5KEYD",
        "outputId": "c4e91908-e9fb-4710-c9b1-b839cdaea4e6"
      },
      "execution_count": null,
      "outputs": [
        {
          "output_type": "stream",
          "name": "stdout",
          "text": [
            "20/20 [==============================] - 14s 676ms/step\n",
            "Confusion Matrix\n",
            "[[2679  243]\n",
            " [ 230 1909]]\n"
          ]
        }
      ]
    },
    {
      "cell_type": "code",
      "source": [
        "print('Classification Report')\n",
        "target_names = ['Car', 'Truck']\n",
        "print(classification_report(y_true, y_pred, target_names=target_names))"
      ],
      "metadata": {
        "colab": {
          "base_uri": "https://localhost:8080/"
        },
        "id": "v2BZ8PV1KLDY",
        "outputId": "c51f1f7c-f664-4f94-b003-6c7e3544f1d8"
      },
      "execution_count": null,
      "outputs": [
        {
          "output_type": "stream",
          "name": "stdout",
          "text": [
            "Classification Report\n",
            "              precision    recall  f1-score   support\n",
            "\n",
            "         Car       0.92      0.92      0.92      2922\n",
            "       Truck       0.89      0.89      0.89      2139\n",
            "\n",
            "    accuracy                           0.91      5061\n",
            "   macro avg       0.90      0.90      0.90      5061\n",
            "weighted avg       0.91      0.91      0.91      5061\n",
            "\n"
          ]
        }
      ]
    }
  ]
}
